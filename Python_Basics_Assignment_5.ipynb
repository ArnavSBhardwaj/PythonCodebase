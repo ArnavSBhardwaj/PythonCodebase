{
 "cells": [
  {
   "cell_type": "raw",
   "id": "1895d95b",
   "metadata": {},
   "source": [
    "1. What does an empty dictionary's code look like?\n",
    "An empty dictionary is represented as {}."
   ]
  },
  {
   "cell_type": "raw",
   "id": "e485ea79",
   "metadata": {},
   "source": [
    "2. Value of a dictionary with the key 'foo' and the value 42:\n",
    "The dictionary would look like {'foo': 42}."
   ]
  },
  {
   "cell_type": "raw",
   "id": "fbdf0411",
   "metadata": {},
   "source": [
    "3. Most significant distinction between a dictionary and a list:\n",
    "\n",
    "A list is an ordered collection of items accessed by their index.\n",
    "A dictionary is an unordered collection of key-value pairs accessed by keys, not indexes."
   ]
  },
  {
   "cell_type": "raw",
   "id": "b339c768",
   "metadata": {},
   "source": [
    "4. What happens if you try to access spam['foo'] when spam is {'bar': 100}?\n",
    "This will raise a KeyError because the key 'foo' does not exist in the dictionary."
   ]
  },
  {
   "cell_type": "raw",
   "id": "647532e7",
   "metadata": {},
   "source": [
    "5. Difference between 'cat' in spam and 'cat' in spam.keys():\n",
    "Both expressions check if 'cat' is a key in the dictionary spam. They function similarly, but 'cat' in spam is more concise and preferred in practice."
   ]
  },
  {
   "cell_type": "raw",
   "id": "ea819426",
   "metadata": {},
   "source": [
    "6. Difference between 'cat' in spam and 'cat' in spam.values():\n",
    "\n",
    "'cat' in spam checks if 'cat' is a key in spam.\n",
    "'cat' in spam.values() checks if 'cat' is a value associated with any key in spam."
   ]
  },
  {
   "cell_type": "raw",
   "id": "42754741",
   "metadata": {},
   "source": [
    "7. Shortcut for adding a key with a default value if it doesn't exist:\n",
    "\n",
    "spam.setdefault('color', 'black')\n"
   ]
  },
  {
   "cell_type": "raw",
   "id": "5e95b2a4",
   "metadata": {},
   "source": [
    "8. How to \"pretty print\" dictionary values using which module and function:\n",
    "Use the pprint module and its pprint() function:\n",
    "    \n",
    "    import pprint\n",
    "pprint.pprint(dictionary)\n"
   ]
  },
  {
   "cell_type": "code",
   "execution_count": null,
   "id": "bcc4218a",
   "metadata": {},
   "outputs": [],
   "source": []
  }
 ],
 "metadata": {
  "kernelspec": {
   "display_name": "Python 3 (ipykernel)",
   "language": "python",
   "name": "python3"
  },
  "language_info": {
   "codemirror_mode": {
    "name": "ipython",
    "version": 3
   },
   "file_extension": ".py",
   "mimetype": "text/x-python",
   "name": "python",
   "nbconvert_exporter": "python",
   "pygments_lexer": "ipython3",
   "version": "3.11.5"
  }
 },
 "nbformat": 4,
 "nbformat_minor": 5
}
