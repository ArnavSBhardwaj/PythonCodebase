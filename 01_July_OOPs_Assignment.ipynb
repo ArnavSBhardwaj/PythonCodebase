{
 "cells": [
  {
   "cell_type": "raw",
   "id": "b12df04b",
   "metadata": {},
   "source": [
    "1. What is the primary goal of Object-Oriented Programming (OOP)?\n",
    "The primary goal of OOP is to organize code around objects—entities that represent real-world or conceptual things—allowing for better modularity, reuse, and abstraction. OOP helps in structuring code into reusable and self-contained units, making it easier to maintain and extend."
   ]
  },
  {
   "cell_type": "raw",
   "id": "bf93b8f7",
   "metadata": {},
   "source": [
    "2. What is an object in Python?\n",
    "An object in Python is an instance of a class. It represents a specific item created from a class blueprint, with its own set of attributes and the ability to perform methods (functions)."
   ]
  },
  {
   "cell_type": "raw",
   "id": "40ab695a",
   "metadata": {},
   "source": [
    "3. What is a class in Python?\n",
    "A class in Python is a blueprint for creating objects. It defines attributes (data) and methods (functions) that the objects created from the class will have. For example, a Book class defines what attributes and methods each Book object will have."
   ]
  },
  {
   "cell_type": "raw",
   "id": "efc3f7b7",
   "metadata": {},
   "source": [
    "4. What are attributes and methods in a class?\n",
    "Attributes are variables associated with a class or an instance of a class that store the data relevant to that class.\n",
    "Methods are functions defined inside a class that describe the behaviors or actions that the objects created from the class can perform."
   ]
  },
  {
   "cell_type": "raw",
   "id": "b5a31baa",
   "metadata": {},
   "source": [
    "5. What is the difference between class variables and instance variables in Python?\n",
    "Class variables are shared across all instances of a class. They are defined within the class but outside any instance methods.\n",
    "Instance variables are unique to each instance of a class, allowing individual objects to store different values."
   ]
  },
  {
   "cell_type": "raw",
   "id": "a494be3c",
   "metadata": {},
   "source": [
    "6. What is the purpose of the self parameter in Python class methods?\n",
    "The self parameter represents the instance of the class on which a method is being called. It allows access to the instance's attributes and other methods, distinguishing between different instances of the class."
   ]
  },
  {
   "cell_type": "code",
   "execution_count": 5,
   "id": "23f31de4",
   "metadata": {},
   "outputs": [],
   "source": [
    "# 7. Implementing the Book Class for a Library Management System\n",
    "\n",
    "class Book:\n",
    "    def __init__(self, title, author, isbn, publication_year, available_copies):\n",
    "        self.title = title\n",
    "        self.author = author\n",
    "        self.isbn = isbn\n",
    "        self.publication_year = publication_year\n",
    "        self.available_copies = available_copies\n",
    "\n",
    "    def check_out(self):\n",
    "        if self.available_copies > 0:\n",
    "            self.available_copies -= 1\n",
    "            print(\"Book checked out successfully.\")\n",
    "        else:\n",
    "            print(\"No copies available for checkout.\")\n",
    "\n",
    "    def return_book(self):\n",
    "        self.available_copies += 1\n",
    "        print(\"Book returned successfully.\")\n",
    "\n",
    "    def display_book_info(self):\n",
    "        print(f\"Title: {self.title}\")\n",
    "        print(f\"Author: {self.author}\")\n",
    "        print(f\"ISBN: {self.isbn}\")\n",
    "        print(f\"Publication Year: {self.publication_year}\")\n",
    "        print(f\"Available Copies: {self.available_copies}\")\n"
   ]
  },
  {
   "cell_type": "code",
   "execution_count": 6,
   "id": "50053a3f",
   "metadata": {},
   "outputs": [],
   "source": [
    "# 8. Implementing the Ticket Class for a Ticket Booking System\n",
    "\n",
    "class Ticket:\n",
    "    def __init__(self, ticket_id, event_name, event_date, venue, seat_number, price, is_reserved=False):\n",
    "        self.ticket_id = ticket_id\n",
    "        self.event_name = event_name\n",
    "        self.event_date = event_date\n",
    "        self.venue = venue\n",
    "        self.seat_number = seat_number\n",
    "        self.price = price\n",
    "        self.is_reserved = is_reserved\n",
    "\n",
    "    def reserve_ticket(self):\n",
    "        if not self.is_reserved:\n",
    "            self.is_reserved = True\n",
    "            print(\"Ticket reserved successfully.\")\n",
    "        else:\n",
    "            print(\"Ticket is already reserved.\")\n",
    "\n",
    "    def cancel_reservation(self):\n",
    "        if self.is_reserved:\n",
    "            self.is_reserved = False\n",
    "            print(\"Ticket reservation cancelled.\")\n",
    "        else:\n",
    "            print(\"Ticket is not reserved.\")\n",
    "\n",
    "    def display_ticket_info(self):\n",
    "        print(f\"Ticket ID: {self.ticket_id}\")\n",
    "        print(f\"Event Name: {self.event_name}\")\n",
    "        print(f\"Event Date: {self.event_date}\")\n",
    "        print(f\"Venue: {self.venue}\")\n",
    "        print(f\"Seat Number: {self.seat_number}\")\n",
    "        print(f\"Price: ${self.price}\")\n",
    "        print(f\"Reserved: {'Yes' if self.is_reserved else 'No'}\")\n"
   ]
  },
  {
   "cell_type": "code",
   "execution_count": 7,
   "id": "01f7ad9a",
   "metadata": {},
   "outputs": [],
   "source": [
    "# 9. Implementing the ShoppingCart Class for an E-commerce Website\n",
    "\n",
    "class ShoppingCart:\n",
    "    def __init__(self):\n",
    "        self.items = []\n",
    "\n",
    "    def add_item(self, item):\n",
    "        self.items.append(item)\n",
    "        print(f\"Added {item} to the cart.\")\n",
    "\n",
    "    def remove_item(self, item):\n",
    "        if item in self.items:\n",
    "            self.items.remove(item)\n",
    "            print(f\"Removed {item} from the cart.\")\n",
    "        else:\n",
    "            print(f\"{item} not found in the cart.\")\n",
    "\n",
    "    def view_cart(self):\n",
    "        if self.items:\n",
    "            print(\"Items in your cart:\")\n",
    "            for item in self.items:\n",
    "                print(f\"- {item}\")\n",
    "        else:\n",
    "            print(\"Your cart is empty.\")\n",
    "\n",
    "    def clear_cart(self):\n",
    "        self.items = []\n",
    "        print(\"Cart cleared.\")\n"
   ]
  },
  {
   "cell_type": "code",
   "execution_count": 8,
   "id": "f9c65cc7",
   "metadata": {},
   "outputs": [],
   "source": [
    "# 10. Implementing the Student Class for a School Management System\n",
    "\n",
    "class Student:\n",
    "    def __init__(self, name, age, grade, student_id):\n",
    "        self.name = name\n",
    "        self.age = age\n",
    "        self.grade = grade\n",
    "        self.student_id = student_id\n",
    "        self.attendance = {}\n",
    "\n",
    "    def update_attendance(self, date, status):\n",
    "        self.attendance[date] = status\n",
    "        print(f\"Attendance for {date} updated to {status}.\")\n",
    "\n",
    "    def get_attendance(self):\n",
    "        return self.attendance\n",
    "\n",
    "    def get_average_attendance(self):\n",
    "        total_days = len(self.attendance)\n",
    "        if total_days == 0:\n",
    "            return 0\n",
    "        present_days = sum(1 for status in self.attendance.values() if status.lower() == \"present\")\n",
    "        return (present_days / total_days) * 100\n"
   ]
  },
  {
   "cell_type": "code",
   "execution_count": null,
   "id": "b34693e2",
   "metadata": {},
   "outputs": [],
   "source": []
  }
 ],
 "metadata": {
  "kernelspec": {
   "display_name": "Python 3 (ipykernel)",
   "language": "python",
   "name": "python3"
  },
  "language_info": {
   "codemirror_mode": {
    "name": "ipython",
    "version": 3
   },
   "file_extension": ".py",
   "mimetype": "text/x-python",
   "name": "python",
   "nbconvert_exporter": "python",
   "pygments_lexer": "ipython3",
   "version": "3.11.5"
  }
 },
 "nbformat": 4,
 "nbformat_minor": 5
}
