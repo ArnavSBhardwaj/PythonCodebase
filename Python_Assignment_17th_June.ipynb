{
 "cells": [
  {
   "cell_type": "raw",
   "id": "2e1f0993",
   "metadata": {},
   "source": [
    "1. Role of try and except block:\n",
    "The try and except block in Python is used for handling exceptions or errors that may occur during the execution of a program. It allows you to attempt a block of code and handle specific errors gracefully if they arise, preventing the program from crashing unexpectedly."
   ]
  },
  {
   "cell_type": "raw",
   "id": "55d5548e",
   "metadata": {},
   "source": [
    "2. Syntax for a basic try-except block:\n",
    "\n",
    "try:\n",
    "    # Code that might cause an exception\n",
    "except SomeException as e:\n",
    "    # Code that runs if the exception occurs\n"
   ]
  },
  {
   "cell_type": "raw",
   "id": "ac4b03fb",
   "metadata": {},
   "source": [
    "3. What happens if an exception occurs inside a try block and there is no matching except block?\n",
    "If there is no matching except block for the raised exception, Python will stop executing the program and display a traceback, which shows where the exception occurred, along with details about the exception."
   ]
  },
  {
   "cell_type": "raw",
   "id": "ba03ec4f",
   "metadata": {},
   "source": [
    "4. Difference between using a bare except block and specifying a specific exception type:\n",
    "A bare except block (i.e., except: without specifying an exception type) will catch all exceptions, which can make it difficult to identify the root cause of issues.\n",
    "Specifying a specific exception type (e.g., except ValueError:) will only catch exceptions of that specific type, allowing for more precise handling and helping avoid unexpected behaviors."
   ]
  },
  {
   "cell_type": "code",
   "execution_count": 2,
   "id": "e50e5324",
   "metadata": {},
   "outputs": [
    {
     "name": "stdout",
     "output_type": "stream",
     "text": [
      "Outer try block\n",
      "Inner try block\n",
      "Caught ZeroDivisionError in inner except block\n"
     ]
    }
   ],
   "source": [
    "# 5. Can you have nested try-except blocks in Python?\n",
    "# Yes, nested try-except blocks are allowed in Python. Here’s an example:\n",
    "    \n",
    "try:\n",
    "    print(\"Outer try block\")\n",
    "    try:\n",
    "        print(\"Inner try block\")\n",
    "        result = 10 / 0  # This will raise ZeroDivisionError\n",
    "    except ZeroDivisionError:\n",
    "        print(\"Caught ZeroDivisionError in inner except block\")\n",
    "except Exception as e:\n",
    "    print(\"Caught Exception in outer except block:\", e)\n"
   ]
  },
  {
   "cell_type": "code",
   "execution_count": 4,
   "id": "e7ebe453",
   "metadata": {},
   "outputs": [
    {
     "name": "stdout",
     "output_type": "stream",
     "text": [
      "Caught a ValueError\n"
     ]
    }
   ],
   "source": [
    "# 6. Can we use multiple exception blocks?\n",
    "# Yes, multiple except blocks can be used to handle different exceptions individually:\n",
    "\n",
    "try:\n",
    "    value = int(\"abc\")  # This will raise ValueError\n",
    "    result = 10 / 0     # This would raise ZeroDivisionError\n",
    "except ValueError:\n",
    "    print(\"Caught a ValueError\")\n",
    "except ZeroDivisionError:\n",
    "    print(\"Caught a ZeroDivisionError\")\n",
    "except Exception as e:\n",
    "    print(\"Caught a generic exception:\", e)\n"
   ]
  },
  {
   "cell_type": "raw",
   "id": "73588af0",
   "metadata": {},
   "source": [
    "7. Reasons for the following errors:\n",
    "EOFError: Raised when the input() function hits an end-of-file condition (no data) unexpectedly.\n",
    "FloatingPointError: Raised when a floating-point operation fails (rarely used in Python).\n",
    "IndexError: Raised when trying to access an index that is out of range for a list or other sequence.\n",
    "MemoryError: Raised when an operation runs out of memory.\n",
    "OverflowError: Raised when a result of an arithmetic operation exceeds the limits for a numeric type.\n",
    "TabError: Raised when inconsistent indentation (tabs and spaces) is used in the code.\n",
    "ValueError: Raised when a function receives an argument of the correct type but an inappropriate value."
   ]
  },
  {
   "cell_type": "code",
   "execution_count": 5,
   "id": "9a7445ae",
   "metadata": {},
   "outputs": [
    {
     "name": "stdout",
     "output_type": "stream",
     "text": [
      "Enter the first number: 2\n",
      "Enter the second number: 3\n",
      "Result: 0.6666666666666666\n",
      "Enter a number: 2\n",
      "Converted number: 2\n",
      "Enter the index to access: 3\n",
      "Index out of range!\n",
      "Caught a ZeroDivisionError: division by zero is not allowed.\n",
      "An error occurred: invalid literal for int() with base 10: 'abc'\n"
     ]
    }
   ],
   "source": [
    "# 8. Code for given scenarios with try-exception blocks:\n",
    "# a. Program to divide two numbers:\n",
    "\n",
    "try:\n",
    "    num1 = int(input(\"Enter the first number: \"))\n",
    "    num2 = int(input(\"Enter the second number: \"))\n",
    "    result = num1 / num2\n",
    "    print(\"Result:\", result)\n",
    "except ZeroDivisionError:\n",
    "    print(\"Cannot divide by zero.\")\n",
    "except ValueError:\n",
    "    print(\"Please enter valid numbers.\")\n",
    "\n",
    "    \n",
    "# b. Program to convert a string to an integer:\n",
    "\n",
    "try:\n",
    "    num_str = input(\"Enter a number: \")\n",
    "    num = int(num_str)\n",
    "    print(\"Converted number:\", num)\n",
    "except ValueError:\n",
    "    print(\"Invalid input! Please enter a valid integer.\")\n",
    "\n",
    "# c. Program to access an element in a list:\n",
    "\n",
    "my_list = [1, 2, 3]\n",
    "try:\n",
    "    index = int(input(\"Enter the index to access: \"))\n",
    "    print(\"Element at index:\", my_list[index])\n",
    "except IndexError:\n",
    "    print(\"Index out of range!\")\n",
    "except ValueError:\n",
    "    print(\"Please enter a valid integer index.\")\n",
    "\n",
    "# d. Program to handle a specific exception:\n",
    "\n",
    "try:\n",
    "    result = 10 / 0\n",
    "except ZeroDivisionError:\n",
    "    print(\"Caught a ZeroDivisionError: division by zero is not allowed.\")\n",
    "\n",
    "# e. Program to handle any exception:\n",
    "\n",
    "try:\n",
    "    # Some code that might raise an exception\n",
    "    value = int(\"abc\")\n",
    "except Exception as e:\n",
    "    print(\"An error occurred:\", e)\n"
   ]
  },
  {
   "cell_type": "code",
   "execution_count": null,
   "id": "4f94ca2d",
   "metadata": {},
   "outputs": [],
   "source": []
  }
 ],
 "metadata": {
  "kernelspec": {
   "display_name": "Python 3 (ipykernel)",
   "language": "python",
   "name": "python3"
  },
  "language_info": {
   "codemirror_mode": {
    "name": "ipython",
    "version": 3
   },
   "file_extension": ".py",
   "mimetype": "text/x-python",
   "name": "python",
   "nbconvert_exporter": "python",
   "pygments_lexer": "ipython3",
   "version": "3.11.5"
  }
 },
 "nbformat": 4,
 "nbformat_minor": 5
}
