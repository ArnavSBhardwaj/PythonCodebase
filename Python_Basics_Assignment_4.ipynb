{
 "cells": [
  {
   "cell_type": "raw",
   "id": "da94c161",
   "metadata": {},
   "source": [
    "1. What exactly is []?\n",
    "[] represents an empty list in Python, which is a list with no elements. It can store various data types, including numbers, strings, or even other lists."
   ]
  },
  {
   "cell_type": "raw",
   "id": "d00b1822",
   "metadata": {},
   "source": [
    "2. Assigning 'hello' as the third value in spam ([2, 4, 6, 8, 10]):\n",
    "To replace the third value, use:\n",
    "    \n",
    "    spam[2] = 'hello'\n"
   ]
  },
  {
   "cell_type": "raw",
   "id": "a1794a67",
   "metadata": {},
   "source": [
    "3. Value of spam[int(int('3' * 2) / 11)]:\n",
    "Breaking it down:\n",
    "\n",
    "'3' * 2 produces the string '33'.\n",
    "int('33') converts it to the integer 33.\n",
    "33 / 11 gives 3.0, and int(3.0) is 3. So, spam[3] returns the fourth item, which is 'd'."
   ]
  },
  {
   "cell_type": "raw",
   "id": "99d4c716",
   "metadata": {},
   "source": [
    "4. Value of spam[-1]:\n",
    "spam[-1] accesses the last item in the list spam, which is 'd'."
   ]
  },
  {
   "cell_type": "raw",
   "id": "8d91197c",
   "metadata": {},
   "source": [
    "5. Value of spam[:2]:\n",
    "spam[:2] slices the list to get the first two items, which are ['a', 'b']."
   ]
  },
  {
   "cell_type": "raw",
   "id": "5ab873d5",
   "metadata": {},
   "source": [
    "6. Value of bacon.index('cat'):\n",
    "This finds the first occurrence of 'cat' in bacon, which is at index 1."
   ]
  },
  {
   "cell_type": "raw",
   "id": "12d70a6c",
   "metadata": {},
   "source": [
    "7. Effect of bacon.append(99):\n",
    "Appending 99 adds it to the end of bacon. After this, bacon becomes:\n",
    "    \n",
    "    [3.14, 'cat', 11, 'cat', True, 99]\n"
   ]
  },
  {
   "cell_type": "raw",
   "id": "d030d609",
   "metadata": {},
   "source": [
    "8. Effect of bacon.remove('cat'):\n",
    "This removes the first occurrence of 'cat' in bacon, resulting in:\n",
    "    \n",
    "    [3.14, 11, 'cat', True]\n"
   ]
  },
  {
   "cell_type": "raw",
   "id": "d1baecd7",
   "metadata": {},
   "source": [
    "9. List concatenation and replication operators:\n",
    "\n",
    "Concatenation uses the + operator to join lists.\n",
    "Replication uses the * operator to repeat lists."
   ]
  },
  {
   "cell_type": "raw",
   "id": "3a3033d6",
   "metadata": {},
   "source": [
    "10. Difference between append() and insert():\n",
    "\n",
    "append(value) adds value to the end of the list.\n",
    "insert(index, value) places value at the specified index, shifting other items to the right."
   ]
  },
  {
   "cell_type": "raw",
   "id": "af112b46",
   "metadata": {},
   "source": [
    "11. Two methods for removing items from a list:\n",
    "\n",
    "remove(value) removes the first occurrence of value.\n",
    "pop(index) removes the item at the specified index."
   ]
  },
  {
   "cell_type": "raw",
   "id": "d28cd807",
   "metadata": {},
   "source": [
    "12. How list values and string values are identical:\n",
    "Both lists and strings are sequences. This means they support indexing, slicing, and looping. However, strings are immutable, while lists are mutable."
   ]
  },
  {
   "cell_type": "raw",
   "id": "a29ebbad",
   "metadata": {},
   "source": [
    "13. Difference between tuples and lists:\n",
    "\n",
    "Lists are mutable (can be changed) and use [].\n",
    "Tuples are immutable (cannot be changed) and use ()."
   ]
  },
  {
   "cell_type": "raw",
   "id": "4294233c",
   "metadata": {},
   "source": [
    "14. Typing a tuple with only the integer 42:\n",
    "To create a single-value tuple, include a comma:\n",
    "    \n",
    "    (42,)\n"
   ]
  },
  {
   "cell_type": "raw",
   "id": "e6f18298",
   "metadata": {},
   "source": [
    "15. Getting a list’s tuple form and a tuple’s list form:\n",
    "\n",
    "Convert a list to a tuple with tuple(list_value).\n",
    "Convert a tuple to a list with list(tuple_value).\n"
   ]
  },
  {
   "cell_type": "raw",
   "id": "3767cce9",
   "metadata": {},
   "source": [
    "16. What variables that \"contain\" list values actually contain:\n",
    "Variables contain references to the memory address where the list is stored, not the list itself."
   ]
  },
  {
   "cell_type": "raw",
   "id": "bef92457",
   "metadata": {},
   "source": [
    "17. Difference between copy.copy() and copy.deepcopy():\n",
    "\n",
    "copy.copy() creates a shallow copy, duplicating the list’s top-level structure but not nested structures.\n",
    "copy.deepcopy() creates a deep copy, duplicating all levels, including nested lists."
   ]
  },
  {
   "cell_type": "code",
   "execution_count": null,
   "id": "44671f18",
   "metadata": {},
   "outputs": [],
   "source": []
  }
 ],
 "metadata": {
  "kernelspec": {
   "display_name": "Python 3 (ipykernel)",
   "language": "python",
   "name": "python3"
  },
  "language_info": {
   "codemirror_mode": {
    "name": "ipython",
    "version": 3
   },
   "file_extension": ".py",
   "mimetype": "text/x-python",
   "name": "python",
   "nbconvert_exporter": "python",
   "pygments_lexer": "ipython3",
   "version": "3.11.5"
  }
 },
 "nbformat": 4,
 "nbformat_minor": 5
}
