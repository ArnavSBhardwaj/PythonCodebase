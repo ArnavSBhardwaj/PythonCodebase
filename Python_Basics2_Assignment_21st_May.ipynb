{
 "cells": [
  {
   "cell_type": "code",
   "execution_count": 2,
   "id": "4237b52f",
   "metadata": {},
   "outputs": [
    {
     "name": "stdout",
     "output_type": "stream",
     "text": [
      "First variable is 20 & second variable is 10.\n",
      "Addition: 20 + 10 = 30\n",
      "Subtraction: 20 - 10 = 10\n",
      "Multiplication: 20 * 10 = 200\n",
      "Division: 20 / 10 = 2.0\n"
     ]
    }
   ],
   "source": [
    "# Q.1. Create two int type variables, apply operations, and print results in a specific format:\n",
    "\n",
    "# Step 1: Define two int variables\n",
    "a = 20\n",
    "b = 10\n",
    "\n",
    "# Step 2: Perform arithmetic operations\n",
    "addition = a + b\n",
    "subtraction = a - b\n",
    "multiplication = a * b\n",
    "division = a / b\n",
    "\n",
    "# Step 3: Print results in the specified format\n",
    "print(f\"First variable is {a} & second variable is {b}.\")\n",
    "print(f\"Addition: {a} + {b} = {addition}\")\n",
    "print(f\"Subtraction: {a} - {b} = {subtraction}\")\n",
    "print(f\"Multiplication: {a} * {b} = {multiplication}\")\n",
    "print(f\"Division: {a} / {b} = {division}\")\n"
   ]
  },
  {
   "cell_type": "raw",
   "id": "04cf6be6",
   "metadata": {},
   "source": [
    "Q.2. Difference between operators:\n",
    "(i) / vs. //\n",
    "\n",
    "/ is the division operator that performs floating-point division and returns a float result.\n",
    "Example: 5 / 2 results in 2.5.\n",
    "// is the floor division operator and returns the quotient, discarding the decimal part.\n",
    "Example: 5 // 2 results in 2.\n",
    "(ii) ** vs. ^\n",
    "\n",
    "** is the exponentiation operator, raising the number to the power of the second number.\n",
    "Example: 2 ** 3 results in 8 (i.e., \n",
    "2\n",
    "3\n",
    "2 \n",
    "3\n",
    " ).\n",
    "^ is the bitwise XOR operator, which performs bitwise XOR on two integers.\n",
    "Example: 5 ^ 3 results in 6 (binary XOR of 101 and 011)."
   ]
  },
  {
   "cell_type": "raw",
   "id": "111301f9",
   "metadata": {},
   "source": [
    "Q.3. List of logical operators:\n",
    "and: Returns True if both conditions are true.\n",
    "or: Returns True if at least one condition is true.\n",
    "not: Returns True if the condition is false, and vice versa."
   ]
  },
  {
   "cell_type": "raw",
   "id": "503178ec",
   "metadata": {},
   "source": [
    "Q.4. Right shift and left shift operators with examples:\n",
    "\n",
    "Right Shift (>>): Shifts the bits of a number to the right by a specified number of positions. This effectively divides the number by \n",
    "2\n",
    "shift amount\n",
    "2 \n",
    "shift amount\n",
    " .\n",
    "\n",
    "Example: 8 >> 1 shifts bits of 8 (binary 1000) to the right by 1, resulting in 4 (binary 0100).\n",
    "Left Shift (<<): Shifts the bits of a number to the left by a specified number of positions. This effectively multiplies the number by \n",
    "2\n",
    "shift amount\n",
    "2 \n",
    "shift amount\n",
    " .\n",
    "\n",
    "Example: 3 << 2 shifts bits of 3 (binary 0011) to the left by 2, resulting in 12 (binary 1100)."
   ]
  },
  {
   "cell_type": "code",
   "execution_count": 4,
   "id": "cdb779c7",
   "metadata": {},
   "outputs": [
    {
     "name": "stdout",
     "output_type": "stream",
     "text": [
      "10 is present in the list.\n"
     ]
    }
   ],
   "source": [
    "# Q.5. Check if a list contains the integer 10:\n",
    "\n",
    "# Create a list of 15 integers\n",
    "int_list = [1, 3, 5, 7, 9, 10, 12, 14, 16, 18, 20, 22, 24, 26, 28]\n",
    "\n",
    "# Check if 10 is in the list\n",
    "if 10 in int_list:\n",
    "    print(\"10 is present in the list.\")\n",
    "else:\n",
    "    print(\"10 is not present in the list.\")\n",
    "    \n",
    "# This code will print \"10 is present in the list.\" if 10 exists within int_list, otherwise, it will print \"10 is not present in the list.\"\n"
   ]
  },
  {
   "cell_type": "code",
   "execution_count": null,
   "id": "75817a80",
   "metadata": {},
   "outputs": [],
   "source": []
  }
 ],
 "metadata": {
  "kernelspec": {
   "display_name": "Python 3 (ipykernel)",
   "language": "python",
   "name": "python3"
  },
  "language_info": {
   "codemirror_mode": {
    "name": "ipython",
    "version": 3
   },
   "file_extension": ".py",
   "mimetype": "text/x-python",
   "name": "python",
   "nbconvert_exporter": "python",
   "pygments_lexer": "ipython3",
   "version": "3.11.5"
  }
 },
 "nbformat": 4,
 "nbformat_minor": 5
}
