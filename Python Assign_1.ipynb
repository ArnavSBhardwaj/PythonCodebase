{
 "cells": [
  {
   "cell_type": "markdown",
   "id": "7cc60569",
   "metadata": {},
   "source": [
    "1. In the below elements which of them are values or an expression? eg:- values can be\n",
    "   integer or string and expressions will be mathematical operators."
   ]
  },
  {
   "cell_type": "raw",
   "id": "2290fb01",
   "metadata": {},
   "source": [
    "* : expression"
   ]
  },
  {
   "cell_type": "raw",
   "id": "56a2ac7a",
   "metadata": {},
   "source": [
    "'hello' : value"
   ]
  },
  {
   "cell_type": "raw",
   "id": "b921b456",
   "metadata": {},
   "source": [
    "-87.8 : value"
   ]
  },
  {
   "cell_type": "raw",
   "id": "0516e119",
   "metadata": {},
   "source": [
    "- : expression"
   ]
  },
  {
   "cell_type": "raw",
   "id": "908566d9",
   "metadata": {},
   "source": [
    "/: expression"
   ]
  },
  {
   "cell_type": "raw",
   "id": "32df2759",
   "metadata": {},
   "source": [
    "+ : expression"
   ]
  },
  {
   "cell_type": "raw",
   "id": "de045a54",
   "metadata": {},
   "source": [
    "6 : value"
   ]
  },
  {
   "cell_type": "markdown",
   "id": "c8aa641e",
   "metadata": {},
   "source": [
    "2. What is the difference between string and variable?"
   ]
  },
  {
   "cell_type": "raw",
   "id": "c4eeb1c2",
   "metadata": {},
   "source": [
    "String is a data type that represents a sequence of characters within quotation marks (either single or double quotes). Strings are immutable (i.e, cannot be changed once created).\n",
    "\n",
    "whereas,\n",
    "\n",
    "Variable is a name that represents a value stored in the memory. Variables can be assigned different values throughout the program.\n",
    "\n",
    "String example:\n",
    "name = \"abc\" \n",
    "print(name)\n",
    "Output : abc\n",
    "\n",
    "Variable example:\n",
    "age = 25 \n",
    "print(age)\n",
    "Output : 25"
   ]
  },
  {
   "cell_type": "markdown",
   "id": "93ee2676",
   "metadata": {},
   "source": [
    "3. Describe three different data types."
   ]
  },
  {
   "cell_type": "raw",
   "id": "857ab760",
   "metadata": {},
   "source": [
    "Three different data types are described below:\n",
    "\n",
    "Integer: The integer data type represents whole numbers without any fraction or decimal parts. It can be positive or negative. \n",
    "\n",
    "String: The string data type is used to represent a sequence of characters. Strings are enclosed within quotation marks. For example, \"Hello World\"\n",
    "\n",
    "List: A list represents an ordered collection of items. Lists can contain elements of different data types such as integers, strings, etc. For example: [1, 2, 3], [\"grapes\", \"banana\", \"apple\"]\n",
    "\n",
    "There are many more data types like float, boolean, tuple, dictionary, etc."
   ]
  },
  {
   "cell_type": "markdown",
   "id": "870d3c63",
   "metadata": {},
   "source": [
    "4. What is an expression made up of? What do all expressions do?"
   ]
  },
  {
   "cell_type": "raw",
   "id": "056da713",
   "metadata": {},
   "source": [
    "An expression is a combination of values, variables and operators that evaluates to a result. It can be a single value or a complex combination of multiple operations.\n",
    "\n",
    "They are used to perform computations and manipulate data. They are evaluated by the Python interpreter, which processes the expression and produces a single resulting value. \n",
    "\n",
    "For example: \n",
    "x = 5\n",
    "y = 2\n",
    "z = x + y * 3\n",
    "print(z)\n",
    "Output - 11"
   ]
  },
  {
   "cell_type": "markdown",
   "id": "a482c24f",
   "metadata": {},
   "source": [
    "5. This assignment statements, like spam = 10. What is the difference between an expression and a statement?"
   ]
  },
  {
   "cell_type": "raw",
   "id": "50f46e05",
   "metadata": {},
   "source": [
    "Expressions: They produce a value when evaluated. They are used to calculate values, generate results, or provide arguments to functions. For example, 2 + 3 evaluates to 5.\n",
    "\n",
    "Statements: They do not produce a value. Instead, they perform an action or modify the program's state. Statements define the structure, behavior, and control flow of a program. For example: an assignment statement- spam = 10 assigns the value 10 to the variable spam."
   ]
  },
  {
   "cell_type": "markdown",
   "id": "e4ac3fda",
   "metadata": {},
   "source": [
    "6. After running the following code, what does the variable bacon contain? bacon = 22   bacon + 1"
   ]
  },
  {
   "cell_type": "raw",
   "id": "84b8ed8a",
   "metadata": {},
   "source": [
    "bacon will be the same value 22. Here, In second line, bacon + 1 is an expression that adds 1 to the value of bacon. However, the result of this expression is not assigned to any variable or printed. Therefore, it does not affect the value stored in the bacon variable."
   ]
  },
  {
   "cell_type": "markdown",
   "id": "3135e4cc",
   "metadata": {},
   "source": [
    "7. What should the values of the following two terms be? 'spam' + 'spamspam' 'spam' * 3"
   ]
  },
  {
   "cell_type": "raw",
   "id": "f4933428",
   "metadata": {},
   "source": [
    "'spam' + 'spamspam' = spamspamspam\n",
    "'spam' * 3 = spamspamspam\n",
    "Both the cases will produce the same result 'spamspamspam'"
   ]
  },
  {
   "cell_type": "markdown",
   "id": "dd41abb9",
   "metadata": {},
   "source": [
    "8. Why is eggs a valid variable name while 100 is invalid?"
   ]
  },
  {
   "cell_type": "raw",
   "id": "cad0b757",
   "metadata": {},
   "source": [
    "In Python, variable names must follow certain rules and conventions.\n",
    "\n",
    "Variable names in Python must start with either a letter (a-z, A-Z) or an underscore (_). They cannot start with a digit (0-9). Since 'eggs' starts with a letter ('e'), it is a valid variable name. 100 starts with a digit, so it an invalid variable name."
   ]
  },
  {
   "cell_type": "markdown",
   "id": "ca29904c",
   "metadata": {},
   "source": [
    "9. What three functions can be used to get the integer, floating-point number, or string version of a value?"
   ]
  },
  {
   "cell_type": "raw",
   "id": "f68c0b98",
   "metadata": {},
   "source": [
    "We can use the below three functions to get the integer, floating-point number, or string version of a value:\n",
    "\n",
    "int(): This function converts a value to an integer. It takes a numeric value and returns the corresponding integer value.\n",
    "eg: value = 10.5\n",
    "integer_value = int(value)\n",
    "print(integer_value)  # Output: 10\n",
    "\n",
    "float(): This function converts a value to a floating-point number. It takes a numeric value and returns the corresponding floating-point number.\n",
    "eg: value = \"3.14\"\n",
    "float_value = float(value)\n",
    "print(float_value)  # Output: 3.14\n",
    "\n",
    "str(): This function converts a value to a string. It takes any value as an argument and returns its string representation.\n",
    "eg: value = 42\n",
    "string_value = str(value)\n",
    "print(string_value)  # Output: \"42\""
   ]
  },
  {
   "cell_type": "markdown",
   "id": "83ab81c5",
   "metadata": {},
   "source": [
    "10. Why does this expression cause an error? How can you fix it?\n",
    "'I have eaten ' + 99 + ' burritos.'"
   ]
  },
  {
   "cell_type": "raw",
   "id": "b244bd05",
   "metadata": {},
   "source": [
    "The given expression 'I have eaten ' + 99 + ' burritos.' causes an error because it involves concatenating different data types without converting them to a compatible type (strings and numeric value). \n",
    "\n",
    "To fix this, we can make the data types to same type (i.e, by converting the integer to string type)\n",
    "'I have eaten ' + str(99) + ' burritos.' - This will solve our purpose.\n",
    "Output: I have eaten 99 burritos."
   ]
  }
 ],
 "metadata": {
  "kernelspec": {
   "display_name": "Python 3 (ipykernel)",
   "language": "python",
   "name": "python3"
  },
  "language_info": {
   "codemirror_mode": {
    "name": "ipython",
    "version": 3
   },
   "file_extension": ".py",
   "mimetype": "text/x-python",
   "name": "python",
   "nbconvert_exporter": "python",
   "pygments_lexer": "ipython3",
   "version": "3.9.13"
  }
 },
 "nbformat": 4,
 "nbformat_minor": 5
}
