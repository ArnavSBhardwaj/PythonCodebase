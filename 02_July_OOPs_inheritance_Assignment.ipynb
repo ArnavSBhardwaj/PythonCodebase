{
 "cells": [
  {
   "cell_type": "raw",
   "id": "64429269",
   "metadata": {},
   "source": [
    "1. What is Inheritance in Object-Oriented Programming, and Why Is It Used?\n",
    "Inheritance is a core concept in OOP that allows a class (called the derived or child class) to inherit attributes and methods from another class (called the base or parent class). It promotes code reusability, allowing new classes to use the functionality of existing classes without rewriting code, which also makes it easier to maintain and extend programs."
   ]
  },
  {
   "cell_type": "raw",
   "id": "321204fb",
   "metadata": {},
   "source": [
    "2. Single Inheritance vs. Multiple Inheritance\n",
    "Single Inheritance: In this form, a derived class inherits from only one base class. This makes the inheritance hierarchy simpler, reducing the complexity of the code.\n",
    "Multiple Inheritance: In this form, a derived class can inherit from multiple base classes. This allows a class to combine functionality from several sources but can introduce complexity due to potential method conflicts, which Python handles using the Method Resolution Order (MRO)."
   ]
  },
  {
   "cell_type": "raw",
   "id": "22a44bb5",
   "metadata": {},
   "source": [
    "3. Base Class and Derived Class\n",
    "Base Class: The class being inherited from; it provides the common attributes and methods.\n",
    "Derived Class: The class that inherits from the base class, extending or modifying its functionality."
   ]
  },
  {
   "cell_type": "raw",
   "id": "0163dca2",
   "metadata": {},
   "source": [
    "4. Significance of Protected Access Modifier\n",
    "In Python, there are three levels of access modifiers:\n",
    "\n",
    "Public: Accessible from anywhere.\n",
    "Protected: Indicated by a single underscore _attribute, signaling that it is intended for internal use within the class and subclasses. It’s a convention rather than enforced protection in Python.\n",
    "Private: Indicated by a double underscore __attribute, making the attribute name-mangled and thus more challenging to access directly outside the class."
   ]
  },
  {
   "cell_type": "code",
   "execution_count": 1,
   "id": "67a11cbf",
   "metadata": {},
   "outputs": [],
   "source": [
    "\"\"\" 5. Purpose of the super Keyword\n",
    "The super keyword in Python is used to access methods and attributes of the parent class, which is especially useful in overriding methods in the derived class. This keyword ensures that the parent’s version of a method is also executed, allowing for extended functionality without completely replacing the parent’s behavior.\n",
    "\"\"\"\n",
    "\n",
    "class Animal:\n",
    "    def __init__(self, name):\n",
    "        self.name = name\n",
    "\n",
    "    def sound(self):\n",
    "        print(\"Some generic animal sound\")\n",
    "\n",
    "class Dog(Animal):\n",
    "    def __init__(self, name, breed):\n",
    "        super().__init__(name)  # Using super to call the parent class constructor\n",
    "        self.breed = breed\n",
    "\n",
    "    def sound(self):\n",
    "        super().sound()  # Calls the sound method in Animal first\n",
    "        print(\"Bark\")\n"
   ]
  },
  {
   "cell_type": "code",
   "execution_count": 3,
   "id": "6b00e1b4",
   "metadata": {},
   "outputs": [],
   "source": [
    "\"\"\" 6. Vehicle and Car Classes with Inheritance\n",
    "Here’s how to implement a Vehicle base class and a Car derived class:\n",
    "\"\"\"\n",
    "class Vehicle:\n",
    "    def __init__(self, make, model, year):\n",
    "        self.make = make\n",
    "        self.model = model\n",
    "        self.year = year\n",
    "\n",
    "    def display_info(self):\n",
    "        print(f\"Make: {self.make}, Model: {self.model}, Year: {self.year}\")\n",
    "\n",
    "class Car(Vehicle):\n",
    "    def __init__(self, make, model, year, fuel_type):\n",
    "        super().__init__(make, model, year)\n",
    "        self.fuel_type = fuel_type\n",
    "\n",
    "    def display_info(self):\n",
    "        super().display_info()\n",
    "        print(f\"Fuel Type: {self.fuel_type}\")\n"
   ]
  },
  {
   "cell_type": "code",
   "execution_count": 5,
   "id": "c7afb285",
   "metadata": {},
   "outputs": [],
   "source": [
    "\"\"\" 7. Employee, Manager, and Developer Classes\n",
    "Here’s how to implement the Employee base class and its derived classes Manager and Developer:\n",
    "\"\"\"\n",
    "\n",
    "class Employee:\n",
    "    def __init__(self, name, salary):\n",
    "        self.name = name\n",
    "        self.salary = salary\n",
    "\n",
    "    def display_info(self):\n",
    "        print(f\"Name: {self.name}, Salary: {self.salary}\")\n",
    "\n",
    "class Manager(Employee):\n",
    "    def __init__(self, name, salary, department):\n",
    "        super().__init__(name, salary)\n",
    "        self.department = department\n",
    "\n",
    "    def display_info(self):\n",
    "        super().display_info()\n",
    "        print(f\"Department: {self.department}\")\n",
    "\n",
    "class Developer(Employee):\n",
    "    def __init__(self, name, salary, programming_language):\n",
    "        super().__init__(name, salary)\n",
    "        self.programming_language = programming_language\n",
    "\n",
    "    def display_info(self):\n",
    "        super().display_info()\n",
    "        print(f\"Programming Language: {self.programming_language}\")\n"
   ]
  },
  {
   "cell_type": "code",
   "execution_count": 6,
   "id": "c9897576",
   "metadata": {},
   "outputs": [],
   "source": [
    "\"\"\" 8. Shape, Rectangle, and Circle Classes\n",
    "Below is the Shape base class with Rectangle and Circle as derived classes:\n",
    "\"\"\"\n",
    "class Shape:\n",
    "    def __init__(self, colour, border_width):\n",
    "        self.colour = colour\n",
    "        self.border_width = border_width\n",
    "\n",
    "class Rectangle(Shape):\n",
    "    def __init__(self, colour, border_width, length, width):\n",
    "        super().__init__(colour, border_width)\n",
    "        self.length = length\n",
    "        self.width = width\n",
    "\n",
    "    def area(self):\n",
    "        return self.length * self.width\n",
    "\n",
    "class Circle(Shape):\n",
    "    def __init__(self, colour, border_width, radius):\n",
    "        super().__init__(colour, border_width)\n",
    "        self.radius = radius\n",
    "\n",
    "    def area(self):\n",
    "        return 3.1416 * self.radius * self.radius\n"
   ]
  },
  {
   "cell_type": "code",
   "execution_count": 8,
   "id": "0ba40efd",
   "metadata": {},
   "outputs": [],
   "source": [
    "\"\"\" 9. Device, Phone, and Tablet Classes\n",
    "Here’s how to implement the Device base class, with Phone and Tablet derived classes:\n",
    "\"\"\"\n",
    "\n",
    "class Device:\n",
    "    def __init__(self, brand, model):\n",
    "        self.brand = brand\n",
    "        self.model = model\n",
    "\n",
    "class Phone(Device):\n",
    "    def __init__(self, brand, model, screen_size):\n",
    "        super().__init__(brand, model)\n",
    "        self.screen_size = screen_size\n",
    "\n",
    "class Tablet(Device):\n",
    "    def __init__(self, brand, model, battery_capacity):\n",
    "        super().__init__(brand, model)\n",
    "        self.battery_capacity = battery_capacity\n"
   ]
  },
  {
   "cell_type": "code",
   "execution_count": 10,
   "id": "d786531d",
   "metadata": {},
   "outputs": [],
   "source": [
    "\"\"\" 10. BankAccount, SavingsAccount, and CheckingAccount Classes\n",
    "Here’s how to implement a BankAccount class with SavingsAccount and CheckingAccount derived classes:\n",
    "\"\"\"\n",
    "\n",
    "class BankAccount:\n",
    "    def __init__(self, account_number, balance=0):\n",
    "        self.account_number = account_number\n",
    "        self.balance = balance\n",
    "\n",
    "    def deposit(self, amount):\n",
    "        self.balance += amount\n",
    "        print(f\"Deposited: {amount}. New balance: {self.balance}\")\n",
    "\n",
    "    def withdraw(self, amount):\n",
    "        if amount > self.balance:\n",
    "            print(\"Insufficient funds.\")\n",
    "        else:\n",
    "            self.balance -= amount\n",
    "            print(f\"Withdrawn: {amount}. New balance: {self.balance}\")\n",
    "\n",
    "class SavingsAccount(BankAccount):\n",
    "    def __init__(self, account_number, balance=0, interest_rate=0.01):\n",
    "        super().__init__(account_number, balance)\n",
    "        self.interest_rate = interest_rate\n",
    "\n",
    "    def calculate_interest(self):\n",
    "        return self.balance * self.interest_rate\n",
    "\n",
    "class CheckingAccount(BankAccount):\n",
    "    def __init__(self, account_number, balance=0, fees=0):\n",
    "        super().__init__(account_number, balance)\n",
    "        self.fees = fees\n",
    "\n",
    "    def deduct_fees(self):\n",
    "        self.balance -= self.fees\n",
    "        print(f\"Fees of {self.fees} deducted. New balance: {self.balance}\")\n"
   ]
  },
  {
   "cell_type": "code",
   "execution_count": null,
   "id": "eb666322",
   "metadata": {},
   "outputs": [],
   "source": []
  }
 ],
 "metadata": {
  "kernelspec": {
   "display_name": "Python 3 (ipykernel)",
   "language": "python",
   "name": "python3"
  },
  "language_info": {
   "codemirror_mode": {
    "name": "ipython",
    "version": 3
   },
   "file_extension": ".py",
   "mimetype": "text/x-python",
   "name": "python",
   "nbconvert_exporter": "python",
   "pygments_lexer": "ipython3",
   "version": "3.11.5"
  }
 },
 "nbformat": 4,
 "nbformat_minor": 5
}
