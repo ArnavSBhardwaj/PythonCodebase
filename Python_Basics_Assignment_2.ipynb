{
 "cells": [
  {
   "cell_type": "raw",
   "id": "ce645cb1",
   "metadata": {},
   "source": [
    "1. What Are the Two Values of the Boolean Data Type? How Do You Write Them?\n",
    "The Boolean data type has two values:\n",
    "\n",
    "True\n",
    "False\n",
    "In Python, they are written as True and False (capitalized with no quotes)."
   ]
  },
  {
   "cell_type": "raw",
   "id": "f9f8eb02",
   "metadata": {},
   "source": [
    "2. What Are the Three Different Types of Boolean Operators?\n",
    "The three main Boolean operators are:\n",
    "\n",
    "and\n",
    "or\n",
    "not"
   ]
  },
  {
   "cell_type": "raw",
   "id": "16b6d709",
   "metadata": {},
   "source": [
    "3. Truth Tables for Boolean Operators\n",
    "Here are the truth tables for each Boolean operator:\n",
    "\n",
    "and Operator:\n",
    "A\t    B\t    A and B\n",
    "True\tTrue\tTrue\n",
    "True\tFalse\tFalse\n",
    "False\tTrue\tFalse\n",
    "False\tFalse\tFalse\n",
    "\n",
    "or Operator:\n",
    "A\t    B\t    A or B\n",
    "True\tTrue\tTrue\n",
    "True\tFalse\tTrue\n",
    "False\tTrue\tTrue\n",
    "False\tFalse\tFalse\n",
    "\n",
    "not Operator:\n",
    "A\t    not A\n",
    "True\tFalse\n",
    "False\tTrue"
   ]
  },
  {
   "cell_type": "raw",
   "id": "308c48df",
   "metadata": {},
   "source": [
    "4. Evaluate the Expressions\n",
    "(5 > 4) and (3 == 5) → True and False → False\n",
    "not (5 > 4) → not True → False\n",
    "(5 > 4) or (3 == 5) → True or False → True\n",
    "not ((5 > 4) or (3 == 5)) → not (True or False) → not True → False\n",
    "(True and True) and (True == False) → True and False → False\n",
    "(not False) or (not True) → True or False → True"
   ]
  },
  {
   "cell_type": "raw",
   "id": "992cf9e3",
   "metadata": {},
   "source": [
    "5. What Are the Six Comparison Operators?\n",
    "The six comparison operators are:\n",
    "\n",
    "== (equal to)\n",
    "!= (not equal to)\n",
    "< (less than)\n",
    "> (greater than)\n",
    "<= (less than or equal to)\n",
    ">= (greater than or equal to)"
   ]
  },
  {
   "cell_type": "code",
   "execution_count": 1,
   "id": "332c8295",
   "metadata": {},
   "outputs": [
    {
     "name": "stdout",
     "output_type": "stream",
     "text": [
      "x is equal to 5\n"
     ]
    }
   ],
   "source": [
    "\"\"\"6. Difference Between the Equal To and Assignment Operators\n",
    "Equal To (==): A comparison operator used to check if two values are equal.\n",
    "Assignment (=): Used to assign a value to a variable.\n",
    "\"\"\"\n",
    "    \n",
    "x = 5   # Assignment\n",
    "if x == 5:   # Comparison\n",
    "    print(\"x is equal to 5\")\n"
   ]
  },
  {
   "cell_type": "code",
   "execution_count": 4,
   "id": "2afe221c",
   "metadata": {},
   "outputs": [
    {
     "name": "stdout",
     "output_type": "stream",
     "text": [
      "ham\n",
      "spam\n",
      "spam\n"
     ]
    },
    {
     "data": {
      "text/plain": [
       "'\\nBlock 1: Code under if spam == 10.\\nBlock 2: Code under if spam > 5.\\nBlock 3: Code under else.\\n'"
      ]
     },
     "execution_count": 4,
     "metadata": {},
     "output_type": "execute_result"
    }
   ],
   "source": [
    "\"\"\"7. Identify the Three Blocks in the Code\n",
    "\"\"\"\n",
    "\n",
    "spam = 0\n",
    "if spam == 10:        # Block 1\n",
    "    print('eggs')\n",
    "if spam > 5:          # Block 2\n",
    "    print('bacon')\n",
    "else:                 # Block 3\n",
    "    print('ham')\n",
    "print('spam')\n",
    "print('spam')\n",
    "\n",
    "\"\"\"\n",
    "Block 1: Code under if spam == 10.\n",
    "Block 2: Code under if spam > 5.\n",
    "Block 3: Code under else.\n",
    "\"\"\""
   ]
  },
  {
   "cell_type": "code",
   "execution_count": 5,
   "id": "a729a0cf",
   "metadata": {},
   "outputs": [
    {
     "name": "stdout",
     "output_type": "stream",
     "text": [
      "Enter a value for spam: 1\n",
      "Hello\n"
     ]
    }
   ],
   "source": [
    "# 8. Code to Print Based on spam Value\n",
    "\n",
    "spam = int(input(\"Enter a value for spam: \"))\n",
    "\n",
    "if spam == 1:\n",
    "    print(\"Hello\")\n",
    "elif spam == 2:\n",
    "    print(\"Howdy\")\n",
    "else:\n",
    "    print(\"Greetings!\")\n"
   ]
  },
  {
   "cell_type": "raw",
   "id": "f9b46218",
   "metadata": {},
   "source": [
    "9. What to Do if Your Program Is Stuck in an Endless Loop\n",
    "Press Ctrl + C (in most systems) to interrupt the program or stop the execution of the loop."
   ]
  },
  {
   "cell_type": "raw",
   "id": "fc6e4724",
   "metadata": {},
   "source": [
    "10. Difference Between break and continue\n",
    "break: Exits the loop entirely.\n",
    "continue: Skips the current iteration and moves to the next iteration of the loop."
   ]
  },
  {
   "cell_type": "raw",
   "id": "02ee575b",
   "metadata": {},
   "source": [
    "11. Difference Between range(10), range(0, 10), and range(0, 10, 1)\n",
    "range(10): Starts from 0 and goes up to (but doesn’t include) 10.\n",
    "range(0, 10): Explicitly starts from 0, goes up to 10.\n",
    "range(0, 10, 1): Starts from 0, goes up to 10, with a step of 1.\n",
    "All three generate the same sequence, but the syntax gives different control options."
   ]
  },
  {
   "cell_type": "code",
   "execution_count": 8,
   "id": "b8fdc6b9",
   "metadata": {},
   "outputs": [
    {
     "name": "stdout",
     "output_type": "stream",
     "text": [
      "1\n",
      "2\n",
      "3\n",
      "4\n",
      "5\n",
      "6\n",
      "7\n",
      "8\n",
      "9\n",
      "10\n",
      "1\n",
      "2\n",
      "3\n",
      "4\n",
      "5\n",
      "6\n",
      "7\n",
      "8\n",
      "9\n",
      "10\n"
     ]
    }
   ],
   "source": [
    "# 12. Program to Print Numbers 1 to 10 Using for and while Loops\n",
    "# Using for Loop\n",
    "\n",
    "for i in range(1, 11):\n",
    "    print(i)\n",
    "\n",
    "#Using while Loop\n",
    "\n",
    "i = 1\n",
    "while i <= 10:\n",
    "    print(i)\n",
    "    i += 1\n"
   ]
  },
  {
   "cell_type": "raw",
   "id": "d22b8fdc",
   "metadata": {},
   "source": [
    "# 13. Calling bacon() from a Module Named spam\n",
    "\n",
    "!pip install spam\n",
    "\n",
    "import spam\n",
    "spam.bacon()\n"
   ]
  },
  {
   "cell_type": "code",
   "execution_count": null,
   "id": "65f99233",
   "metadata": {},
   "outputs": [],
   "source": []
  }
 ],
 "metadata": {
  "kernelspec": {
   "display_name": "Python 3 (ipykernel)",
   "language": "python",
   "name": "python3"
  },
  "language_info": {
   "codemirror_mode": {
    "name": "ipython",
    "version": 3
   },
   "file_extension": ".py",
   "mimetype": "text/x-python",
   "name": "python",
   "nbconvert_exporter": "python",
   "pygments_lexer": "ipython3",
   "version": "3.11.5"
  }
 },
 "nbformat": 4,
 "nbformat_minor": 5
}
