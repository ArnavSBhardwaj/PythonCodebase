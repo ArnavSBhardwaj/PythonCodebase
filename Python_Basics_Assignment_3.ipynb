{
 "cells": [
  {
   "cell_type": "raw",
   "id": "48fb1e3e",
   "metadata": {},
   "source": [
    "1. Advantages of functions: Functions help organize code, make it reusable, and reduce redundancy. They allow you to group related code together and make complex programs easier to understand and maintain. Functions also simplify testing and debugging since each function can be tested individually."
   ]
  },
  {
   "cell_type": "raw",
   "id": "42492844",
   "metadata": {},
   "source": [
    "2. When code in a function runs: Code within a function only runs when the function is called, not when it’s defined."
   ]
  },
  {
   "cell_type": "raw",
   "id": "93a15ee4",
   "metadata": {},
   "source": [
    "3. Creating a function: The def statement is used to create a function in Python. For example:\n",
    "\n",
    "def my_function():\n",
    "    # function code here\n"
   ]
  },
  {
   "cell_type": "raw",
   "id": "2383d4c4",
   "metadata": {},
   "source": [
    "4. Function vs. Function Call: A function is the block of code that performs a task, while a function call is what actually executes the function. For example, def my_function(): defines the function, and my_function() calls it."
   ]
  },
  {
   "cell_type": "raw",
   "id": "ae84e37d",
   "metadata": {},
   "source": [
    "5. Global and Local Scopes: There is only one global scope in a Python program, but there can be multiple local scopes, each created by a function call. Each function call generates a new local scope."
   ]
  },
  {
   "cell_type": "raw",
   "id": "e92ba3a9",
   "metadata": {},
   "source": [
    "6. Variables in Local Scope: When a function returns, the local scope and all its variables are destroyed. The variables within that local scope cease to exist outside the function."
   ]
  },
  {
   "cell_type": "raw",
   "id": "42fbb785",
   "metadata": {},
   "source": [
    "7. Return Value: A return value is the output that a function sends back to where it was called. Yes, a return value can be used in an expression. For example:\n",
    "\n",
    "result = my_function() + 10\n"
   ]
  },
  {
   "cell_type": "raw",
   "id": "4b727a20",
   "metadata": {},
   "source": [
    "8. Return Value of No-return Function: If a function does not have a return statement, it returns None by default."
   ]
  },
  {
   "cell_type": "raw",
   "id": "379b9713",
   "metadata": {},
   "source": [
    "9. Global Variable Reference: Use the global keyword inside a function to refer to a global variable. For example:\n",
    "\n",
    "global my_variable"
   ]
  },
  {
   "cell_type": "raw",
   "id": "1cd1c60e",
   "metadata": {},
   "source": [
    "10. Data Type of None: None is of the NoneType data type in Python."
   ]
  },
  {
   "cell_type": "raw",
   "id": "4198b8cc",
   "metadata": {},
   "source": [
    "11. Import Statement import areallyourpetsnamederic: This statement attempts to import a module named areallyourpetsnamederic. If such a module doesn’t exist, it will raise an ImportError."
   ]
  },
  {
   "cell_type": "raw",
   "id": "ace999aa",
   "metadata": {},
   "source": [
    "12. Calling bacon() from spam module: After importing the module spam, you would call bacon() as spam.bacon()."
   ]
  },
  {
   "cell_type": "raw",
   "id": "4ec2ce99",
   "metadata": {},
   "source": [
    "13. Handling Errors to Avoid Crashes: Use try and except blocks to handle exceptions and prevent the program from crashing if an error occurs."
   ]
  },
  {
   "cell_type": "raw",
   "id": "6f714cea",
   "metadata": {},
   "source": [
    "14. Purpose of try and except clauses: The try clause contains code that might throw an error. The except clause is used to handle the error if one occurs, allowing the program to continue running without crashing."
   ]
  },
  {
   "cell_type": "code",
   "execution_count": null,
   "id": "cd906592",
   "metadata": {},
   "outputs": [],
   "source": []
  }
 ],
 "metadata": {
  "kernelspec": {
   "display_name": "Python 3 (ipykernel)",
   "language": "python",
   "name": "python3"
  },
  "language_info": {
   "codemirror_mode": {
    "name": "ipython",
    "version": 3
   },
   "file_extension": ".py",
   "mimetype": "text/x-python",
   "name": "python",
   "nbconvert_exporter": "python",
   "pygments_lexer": "ipython3",
   "version": "3.11.5"
  }
 },
 "nbformat": 4,
 "nbformat_minor": 5
}
